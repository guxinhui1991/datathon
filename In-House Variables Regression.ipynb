{
 "cells": [
  {
   "cell_type": "code",
   "execution_count": 27,
   "metadata": {},
   "outputs": [
    {
     "name": "stderr",
     "output_type": "stream",
     "text": [
      "/Users/Xinhui/anaconda/lib/python3.6/site-packages/statsmodels/compat/pandas.py:56: FutureWarning: The pandas.core.datetools module is deprecated and will be removed in a future version. Please use the pandas.tseries module instead.\n",
      "  from pandas.core import datetools\n"
     ]
    }
   ],
   "source": [
    "import numpy as np\n",
    "import pandas as pd\n",
    "import scipy.stats as stats\n",
    "import statsmodels.api as sm\n",
    "\n",
    "from sklearn import datasets, linear_model\n",
    "from sklearn.metrics import mean_squared_error, r2_score\n",
    "from matplotlib import pyplot as plt\n",
    "\n",
    "%matplotlib inline\n"
   ]
  },
  {
   "cell_type": "code",
   "execution_count": 80,
   "metadata": {
    "scrolled": true
   },
   "outputs": [
    {
     "name": "stderr",
     "output_type": "stream",
     "text": [
      "/Users/Xinhui/anaconda/lib/python3.6/site-packages/IPython/core/interactiveshell.py:2717: DtypeWarning: Columns (11,29) have mixed types. Specify dtype option on import or set low_memory=False.\n",
      "  interactivity=interactivity, compiler=compiler, result=result)\n"
     ]
    }
   ],
   "source": [
    "df = pd.read_csv('data/listing_formatted_hr.csv', index_col=0)\n",
    "X_internal = ['wifi', 'AC', 'kitchen', 'free_parking', 'smoking_ok',\n",
    "       'breakfast', 'heating', 'fam_friendly', 'laundry', 'essentials',\n",
    "       'workspace', 'bedding',  'utensils',\n",
    "       'backyard', 'long_stay', 'is_house']\n",
    "Y = ['hit_rate']\n",
    "X_data = df[X_internal]\n",
    "Y_data = df[Y]"
   ]
  },
  {
   "cell_type": "markdown",
   "metadata": {},
   "source": [
    "## Regression On all Variables"
   ]
  },
  {
   "cell_type": "code",
   "execution_count": 76,
   "metadata": {},
   "outputs": [
    {
     "name": "stdout",
     "output_type": "stream",
     "text": [
      "                            OLS Regression Results                            \n",
      "==============================================================================\n",
      "Dep. Variable:               hit_rate   R-squared:                       0.034\n",
      "Model:                            OLS   Adj. R-squared:                  0.033\n",
      "Method:                 Least Squares   F-statistic:                     122.7\n",
      "Date:                Sat, 09 Sep 2017   Prob (F-statistic):               0.00\n",
      "Time:                        11:30:56   Log-Likelihood:                -25214.\n",
      "No. Observations:               56417   AIC:                         5.046e+04\n",
      "Df Residuals:                   56400   BIC:                         5.061e+04\n",
      "Df Model:                          16                                         \n",
      "Covariance Type:            nonrobust                                         \n",
      "================================================================================\n",
      "                   coef    std err          t      P>|t|      [0.025      0.975]\n",
      "--------------------------------------------------------------------------------\n",
      "const            0.5662      0.008     69.231      0.000       0.550       0.582\n",
      "wifi            -0.0305      0.008     -3.606      0.000      -0.047      -0.014\n",
      "AC               0.0458      0.003     13.566      0.000       0.039       0.052\n",
      "kitchen         -0.0668      0.006    -12.005      0.000      -0.078      -0.056\n",
      "free_parking     0.0624      0.004     17.790      0.000       0.056       0.069\n",
      "smoking_ok       0.0263      0.007      3.877      0.000       0.013       0.040\n",
      "breakfast        0.0072      0.005      1.426      0.154      -0.003       0.017\n",
      "heating          0.0408      0.005      7.780      0.000       0.031       0.051\n",
      "fam_friendly     0.0251      0.003      7.532      0.000       0.019       0.032\n",
      "laundry         -0.0111      0.004     -2.842      0.004      -0.019      -0.003\n",
      "essentials      -0.0769      0.005    -15.809      0.000      -0.086      -0.067\n",
      "workspace       -0.0384      0.003    -11.277      0.000      -0.045      -0.032\n",
      "bedding         -0.0745      0.212     -0.352      0.725      -0.489       0.340\n",
      "utensils         0.0068      0.029      0.235      0.814      -0.050       0.063\n",
      "backyard         0.1776      0.219      0.812      0.417      -0.251       0.606\n",
      "long_stay        0.1688      0.255      0.663      0.508      -0.331       0.668\n",
      "is_house         0.0607      0.003     18.263      0.000       0.054       0.067\n",
      "==============================================================================\n",
      "Omnibus:                       53.399   Durbin-Watson:                   1.890\n",
      "Prob(Omnibus):                  0.000   Jarque-Bera (JB):             5502.156\n",
      "Skew:                          -0.075   Prob(JB):                         0.00\n",
      "Kurtosis:                       1.478   Cond. No.                         504.\n",
      "==============================================================================\n",
      "\n",
      "Warnings:\n",
      "[1] Standard Errors assume that the covariance matrix of the errors is correctly specified.\n"
     ]
    }
   ],
   "source": [
    "model = sm.OLS(Y_data,sm.add_constant(X_data))\n",
    "olsres = model.fit()\n",
    "print(olsres.summary())"
   ]
  },
  {
   "cell_type": "markdown",
   "metadata": {},
   "source": [
    "## New Features after removing the non-significant variables"
   ]
  },
  {
   "cell_type": "code",
   "execution_count": 77,
   "metadata": {
    "collapsed": true
   },
   "outputs": [],
   "source": [
    "X_internal_new = ['wifi', 'AC', 'kitchen', 'free_parking', 'smoking_ok',\n",
    "       'heating', 'fam_friendly', 'laundry', 'essentials',\n",
    "       'workspace', 'is_house']\n",
    "X_data_new = df[X_internal_new]"
   ]
  },
  {
   "cell_type": "code",
   "execution_count": 79,
   "metadata": {},
   "outputs": [
    {
     "name": "stdout",
     "output_type": "stream",
     "text": [
      "                            OLS Regression Results                            \n",
      "==============================================================================\n",
      "Dep. Variable:               hit_rate   R-squared:                       0.034\n",
      "Model:                            OLS   Adj. R-squared:                  0.033\n",
      "Method:                 Least Squares   F-statistic:                     177.8\n",
      "Date:                Sat, 09 Sep 2017   Prob (F-statistic):               0.00\n",
      "Time:                        11:31:22   Log-Likelihood:                -25218.\n",
      "No. Observations:               56417   AIC:                         5.046e+04\n",
      "Df Residuals:                   56405   BIC:                         5.057e+04\n",
      "Df Model:                          11                                         \n",
      "Covariance Type:            nonrobust                                         \n",
      "================================================================================\n",
      "                   coef    std err          t      P>|t|      [0.025      0.975]\n",
      "--------------------------------------------------------------------------------\n",
      "const            0.5662      0.008     69.235      0.000       0.550       0.582\n",
      "wifi            -0.0305      0.008     -3.602      0.000      -0.047      -0.014\n",
      "AC               0.0460      0.003     13.624      0.000       0.039       0.053\n",
      "kitchen         -0.0669      0.006    -12.027      0.000      -0.078      -0.056\n",
      "free_parking     0.0626      0.004     17.870      0.000       0.056       0.069\n",
      "smoking_ok       0.0271      0.007      3.996      0.000       0.014       0.040\n",
      "heating          0.0409      0.005      7.799      0.000       0.031       0.051\n",
      "fam_friendly     0.0250      0.003      7.507      0.000       0.018       0.032\n",
      "laundry         -0.0109      0.004     -2.795      0.005      -0.019      -0.003\n",
      "essentials      -0.0766      0.005    -15.755      0.000      -0.086      -0.067\n",
      "workspace       -0.0381      0.003    -11.205      0.000      -0.045      -0.031\n",
      "is_house         0.0608      0.003     18.312      0.000       0.054       0.067\n",
      "==============================================================================\n",
      "Omnibus:                       53.883   Durbin-Watson:                   1.890\n",
      "Prob(Omnibus):                  0.000   Jarque-Bera (JB):             5499.434\n",
      "Skew:                          -0.076   Prob(JB):                         0.00\n",
      "Kurtosis:                       1.478   Cond. No.                         16.8\n",
      "==============================================================================\n",
      "\n",
      "Warnings:\n",
      "[1] Standard Errors assume that the covariance matrix of the errors is correctly specified.\n"
     ]
    }
   ],
   "source": [
    "model = sm.OLS(Y_data,sm.add_constant(X_data_new))\n",
    "olsres = model.fit()\n",
    "print(olsres.summary())"
   ]
  },
  {
   "cell_type": "markdown",
   "metadata": {},
   "source": [
    "## Regression on the variables that is not monotone for all listings"
   ]
  },
  {
   "cell_type": "code",
   "execution_count": 84,
   "metadata": {
    "collapsed": true
   },
   "outputs": [],
   "source": [
    "X_unimportant = ['wifi','bedding','utensils','backyard','long_stay']\n",
    "X_important = ['AC', 'kitchen', 'free_parking', 'smoking_ok',\n",
    "       'breakfast', 'heating', 'fam_friendly', 'laundry', 'essentials','workspace', 'is_house']\n",
    "X_data_imp = df[X_important]\n",
    "Y_data = df[Y]"
   ]
  },
  {
   "cell_type": "code",
   "execution_count": 85,
   "metadata": {},
   "outputs": [
    {
     "name": "stdout",
     "output_type": "stream",
     "text": [
      "                            OLS Regression Results                            \n",
      "==============================================================================\n",
      "Dep. Variable:               hit_rate   R-squared:                       0.033\n",
      "Model:                            OLS   Adj. R-squared:                  0.033\n",
      "Method:                 Least Squares   F-statistic:                     176.8\n",
      "Date:                Sat, 09 Sep 2017   Prob (F-statistic):               0.00\n",
      "Time:                        11:33:09   Log-Likelihood:                -25223.\n",
      "No. Observations:               56417   AIC:                         5.047e+04\n",
      "Df Residuals:                   56405   BIC:                         5.058e+04\n",
      "Df Model:                          11                                         \n",
      "Covariance Type:            nonrobust                                         \n",
      "================================================================================\n",
      "                   coef    std err          t      P>|t|      [0.025      0.975]\n",
      "--------------------------------------------------------------------------------\n",
      "const            0.5481      0.006     84.623      0.000       0.535       0.561\n",
      "AC               0.0457      0.003     13.537      0.000       0.039       0.052\n",
      "kitchen         -0.0705      0.005    -12.892      0.000      -0.081      -0.060\n",
      "free_parking     0.0619      0.004     17.670      0.000       0.055       0.069\n",
      "smoking_ok       0.0264      0.007      3.892      0.000       0.013       0.040\n",
      "breakfast        0.0072      0.005      1.419      0.156      -0.003       0.017\n",
      "heating          0.0370      0.005      7.203      0.000       0.027       0.047\n",
      "fam_friendly     0.0251      0.003      7.542      0.000       0.019       0.032\n",
      "laundry         -0.0122      0.004     -3.116      0.002      -0.020      -0.005\n",
      "essentials      -0.0802      0.005    -16.767      0.000      -0.090      -0.071\n",
      "workspace       -0.0391      0.003    -11.513      0.000      -0.046      -0.032\n",
      "is_house         0.0604      0.003     18.182      0.000       0.054       0.067\n",
      "==============================================================================\n",
      "Omnibus:                       52.358   Durbin-Watson:                   1.890\n",
      "Prob(Omnibus):                  0.000   Jarque-Bera (JB):             5509.145\n",
      "Skew:                          -0.075   Prob(JB):                         0.00\n",
      "Kurtosis:                       1.476   Cond. No.                         11.2\n",
      "==============================================================================\n",
      "\n",
      "Warnings:\n",
      "[1] Standard Errors assume that the covariance matrix of the errors is correctly specified.\n"
     ]
    }
   ],
   "source": [
    "model = sm.OLS(Y_data,sm.add_constant(X_data_imp))\n",
    "olsres = model.fit()\n",
    "print(olsres.summary())"
   ]
  },
  {
   "cell_type": "markdown",
   "metadata": {},
   "source": [
    "## Volatilities"
   ]
  },
  {
   "cell_type": "code",
   "execution_count": 86,
   "metadata": {},
   "outputs": [
    {
     "name": "stderr",
     "output_type": "stream",
     "text": [
      "/Users/Xinhui/anaconda/lib/python3.6/site-packages/IPython/core/interactiveshell.py:2717: DtypeWarning: Columns (12,30) have mixed types. Specify dtype option on import or set low_memory=False.\n",
      "  interactivity=interactivity, compiler=compiler, result=result)\n"
     ]
    }
   ],
   "source": [
    "df = pd.read_csv('data/listing_formatted_hr_vol.csv', index_col=0)\n",
    "df_cleaned = df.dropna()"
   ]
  },
  {
   "cell_type": "code",
   "execution_count": 87,
   "metadata": {},
   "outputs": [],
   "source": [
    "X_important = ['AC', 'kitchen', 'free_parking', 'smoking_ok',\n",
    "       'breakfast', 'heating', 'fam_friendly', 'laundry', 'essentials','workspace', 'is_house']\n",
    "\n",
    "Y_vol = ['volatility']\n",
    "X_data = df_cleaned[X_important]\n",
    "Y_vol_data = df_cleaned[Y_vol]"
   ]
  },
  {
   "cell_type": "code",
   "execution_count": 88,
   "metadata": {},
   "outputs": [
    {
     "name": "stdout",
     "output_type": "stream",
     "text": [
      "                            OLS Regression Results                            \n",
      "==============================================================================\n",
      "Dep. Variable:             volatility   R-squared:                       0.087\n",
      "Model:                            OLS   Adj. R-squared:                  0.083\n",
      "Method:                 Least Squares   F-statistic:                     18.72\n",
      "Date:                Sat, 09 Sep 2017   Prob (F-statistic):           3.10e-36\n",
      "Time:                        11:34:04   Log-Likelihood:                -9164.1\n",
      "No. Observations:                2161   AIC:                         1.835e+04\n",
      "Df Residuals:                    2149   BIC:                         1.842e+04\n",
      "Df Model:                          11                                         \n",
      "Covariance Type:            nonrobust                                         \n",
      "================================================================================\n",
      "                   coef    std err          t      P>|t|      [0.025      0.975]\n",
      "--------------------------------------------------------------------------------\n",
      "const            0.2401      2.283      0.105      0.916      -4.237       4.718\n",
      "AC               6.5503      1.031      6.353      0.000       4.528       8.572\n",
      "kitchen          2.7458      1.326      2.071      0.038       0.146       5.346\n",
      "free_parking     0.6198      0.805      0.770      0.441      -0.959       2.199\n",
      "smoking_ok      -1.9243      2.262     -0.851      0.395      -6.360       2.512\n",
      "breakfast       -4.1855      1.256     -3.333      0.001      -6.648      -1.722\n",
      "heating         -0.4648      1.900     -0.245      0.807      -4.191       3.262\n",
      "fam_friendly     6.1084      0.750      8.141      0.000       4.637       7.580\n",
      "laundry          1.7791      0.904      1.969      0.049       0.007       3.551\n",
      "essentials       2.2954      0.998      2.300      0.022       0.338       4.253\n",
      "workspace        5.3903      1.069      5.043      0.000       3.294       7.487\n",
      "is_house        -0.6181      0.769     -0.804      0.422      -2.126       0.890\n",
      "==============================================================================\n",
      "Omnibus:                     1778.323   Durbin-Watson:                   2.003\n",
      "Prob(Omnibus):                  0.000   Jarque-Bera (JB):            55115.312\n",
      "Skew:                           3.717   Prob(JB):                         0.00\n",
      "Kurtosis:                      26.598   Cond. No.                         17.7\n",
      "==============================================================================\n",
      "\n",
      "Warnings:\n",
      "[1] Standard Errors assume that the covariance matrix of the errors is correctly specified.\n"
     ]
    }
   ],
   "source": [
    "model = sm.OLS(Y_vol_data, sm.add_constant(X_data))\n",
    "olsres = model.fit()\n",
    "print(olsres.summary())"
   ]
  },
  {
   "cell_type": "markdown",
   "metadata": {},
   "source": [
    "## Regression on Volatilities after removing the insignificant variables"
   ]
  },
  {
   "cell_type": "code",
   "execution_count": 92,
   "metadata": {},
   "outputs": [
    {
     "name": "stdout",
     "output_type": "stream",
     "text": [
      "                            OLS Regression Results                            \n",
      "==============================================================================\n",
      "Dep. Variable:             volatility   R-squared:                       0.325\n",
      "Model:                            OLS   Adj. R-squared:                  0.323\n",
      "Method:                 Least Squares   F-statistic:                     172.6\n",
      "Date:                Sat, 09 Sep 2017   Prob (F-statistic):          1.54e-179\n",
      "Time:                        11:36:26   Log-Likelihood:                -9166.9\n",
      "No. Observations:                2161   AIC:                         1.835e+04\n",
      "Df Residuals:                    2155   BIC:                         1.838e+04\n",
      "Df Model:                           6                                         \n",
      "Covariance Type:            nonrobust                                         \n",
      "================================================================================\n",
      "                   coef    std err          t      P>|t|      [0.025      0.975]\n",
      "--------------------------------------------------------------------------------\n",
      "AC               6.5973      1.025      6.438      0.000       4.588       8.607\n",
      "kitchen          3.6940      0.839      4.402      0.000       2.048       5.339\n",
      "breakfast       -4.2917      1.233     -3.480      0.001      -6.711      -1.873\n",
      "fam_friendly     6.3035      0.715      8.816      0.000       4.901       7.706\n",
      "essentials       2.5128      0.847      2.967      0.003       0.852       4.174\n",
      "workspace        5.4828      1.059      5.178      0.000       3.406       7.559\n",
      "==============================================================================\n",
      "Omnibus:                     1771.919   Durbin-Watson:                   2.000\n",
      "Prob(Omnibus):                  0.000   Jarque-Bera (JB):            53795.806\n",
      "Skew:                           3.704   Prob(JB):                         0.00\n",
      "Kurtosis:                      26.293   Cond. No.                         4.91\n",
      "==============================================================================\n",
      "\n",
      "Warnings:\n",
      "[1] Standard Errors assume that the covariance matrix of the errors is correctly specified.\n"
     ]
    }
   ],
   "source": [
    "X_important_cleaned = ['AC', 'kitchen', \n",
    "       'breakfast', 'fam_friendly', 'essentials','workspace']\n",
    "\n",
    "Y_vol = ['volatility']\n",
    "X_data = df_cleaned[X_important_cleaned]\n",
    "Y_vol_data = df_cleaned[Y_vol]\n",
    "\n",
    "model = sm.OLS(Y_vol_data, X_data)\n",
    "olsres = model.fit()\n",
    "print(olsres.summary())\n"
   ]
  },
  {
   "cell_type": "code",
   "execution_count": null,
   "metadata": {
    "collapsed": true
   },
   "outputs": [],
   "source": []
  }
 ],
 "metadata": {
  "kernelspec": {
   "display_name": "Python 3",
   "language": "python",
   "name": "python3"
  },
  "language_info": {
   "codemirror_mode": {
    "name": "ipython",
    "version": 3
   },
   "file_extension": ".py",
   "mimetype": "text/x-python",
   "name": "python",
   "nbconvert_exporter": "python",
   "pygments_lexer": "ipython3",
   "version": "3.6.1"
  }
 },
 "nbformat": 4,
 "nbformat_minor": 2
}
