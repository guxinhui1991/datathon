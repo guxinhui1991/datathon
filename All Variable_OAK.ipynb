{
 "cells": [
  {
   "cell_type": "code",
   "execution_count": 1,
   "metadata": {},
   "outputs": [
    {
     "name": "stderr",
     "output_type": "stream",
     "text": [
      "/Users/Xinhui/anaconda/lib/python3.6/site-packages/statsmodels/compat/pandas.py:56: FutureWarning: The pandas.core.datetools module is deprecated and will be removed in a future version. Please use the pandas.tseries module instead.\n",
      "  from pandas.core import datetools\n"
     ]
    }
   ],
   "source": [
    "import numpy as np\n",
    "import pandas as pd\n",
    "import scipy.stats as stats\n",
    "import statsmodels.api as sm\n",
    "\n",
    "from sklearn import datasets, linear_model\n",
    "from sklearn.metrics import mean_squared_error, r2_score\n",
    "from matplotlib import pyplot as plt\n",
    "\n",
    "%matplotlib inline\n"
   ]
  },
  {
   "cell_type": "code",
   "execution_count": 2,
   "metadata": {},
   "outputs": [],
   "source": [
    "df = pd.read_csv('data/listing_formatted_hr_vol_fac_removed.csv', index_col=0)\n",
    "Data_out_name = ['AC', 'kitchen', \n",
    "       'breakfast', 'fam_friendly', 'essentials','workspace',\n",
    "        'food','point_of_interest', 'establishment','roofing_contractor', 'hit_rate','volatility']\n",
    "Data_out = df[Data_out_name].dropna()\n",
    "Y_data_out = Data_out[['hit_rate', 'volatility']]\n",
    "X_data_out = Data_out[Data_out_name[:-2]]"
   ]
  },
  {
   "cell_type": "markdown",
   "metadata": {},
   "source": [
    "## Hit Ratio Regression"
   ]
  },
  {
   "cell_type": "code",
   "execution_count": 3,
   "metadata": {},
   "outputs": [
    {
     "name": "stdout",
     "output_type": "stream",
     "text": [
      "                            OLS Regression Results                            \n",
      "==============================================================================\n",
      "Dep. Variable:               hit_rate   R-squared:                       0.039\n",
      "Model:                            OLS   Adj. R-squared:                  0.033\n",
      "Method:                 Least Squares   F-statistic:                     6.012\n",
      "Date:                Sat, 09 Sep 2017   Prob (F-statistic):           1.37e-07\n",
      "Time:                        13:17:37   Log-Likelihood:                -421.49\n",
      "No. Observations:                1193   AIC:                             861.0\n",
      "Df Residuals:                    1184   BIC:                             906.7\n",
      "Df Model:                           8                                         \n",
      "Covariance Type:            nonrobust                                         \n",
      "======================================================================================\n",
      "                         coef    std err          t      P>|t|      [0.025      0.975]\n",
      "--------------------------------------------------------------------------------------\n",
      "AC                     0.0236      0.034      0.686      0.493      -0.044       0.091\n",
      "kitchen               -0.0376      0.034     -1.102      0.270      -0.105       0.029\n",
      "breakfast              0.0644      0.034      1.880      0.060      -0.003       0.132\n",
      "fam_friendly          -0.0820      0.020     -4.024      0.000      -0.122      -0.042\n",
      "essentials            -0.0445      0.027     -1.642      0.101      -0.098       0.009\n",
      "workspace             -0.0509      0.021     -2.423      0.016      -0.092      -0.010\n",
      "food                  -0.0863      0.027     -3.160      0.002      -0.140      -0.033\n",
      "point_of_interest      0.3992      0.021     18.800      0.000       0.358       0.441\n",
      "establishment          0.3992      0.021     18.800      0.000       0.358       0.441\n",
      "roofing_contractor    -0.0142      0.039     -0.364      0.716      -0.090       0.062\n",
      "==============================================================================\n",
      "Omnibus:                     3927.006   Durbin-Watson:                   1.870\n",
      "Prob(Omnibus):                  0.000   Jarque-Bera (JB):              116.509\n",
      "Skew:                          -0.390   Prob(JB):                     5.02e-26\n",
      "Kurtosis:                       1.683   Cond. No.                     4.91e+15\n",
      "==============================================================================\n",
      "\n",
      "Warnings:\n",
      "[1] Standard Errors assume that the covariance matrix of the errors is correctly specified.\n",
      "[2] The smallest eigenvalue is 2.33e-28. This might indicate that there are\n",
      "strong multicollinearity problems or that the design matrix is singular.\n"
     ]
    }
   ],
   "source": [
    "model = sm.OLS(Y_data_out['hit_rate'],sm.add_constant(X_data_out))\n",
    "olsres = model.fit()\n",
    "print(olsres.summary())"
   ]
  },
  {
   "cell_type": "markdown",
   "metadata": {},
   "source": [
    "## Remove insignificant variable"
   ]
  },
  {
   "cell_type": "code",
   "execution_count": 6,
   "metadata": {
    "collapsed": true
   },
   "outputs": [],
   "source": [
    "df = pd.read_csv('data/listing_formatted_hr_vol_fac_removed.csv', index_col=0)\n",
    "Data_out_name_new = ['breakfast', 'fam_friendly', 'essentials','workspace',\n",
    "        'food','point_of_interest', 'establishment', 'hit_rate','volatility']\n",
    "Data_out_new = df[Data_out_name_new].dropna()\n",
    "Y_data_out_new = Data_out_new[['hit_rate', 'volatility']]\n",
    "X_data_out_new = Data_out[Data_out_name_new[:-2]]"
   ]
  },
  {
   "cell_type": "code",
   "execution_count": 7,
   "metadata": {},
   "outputs": [
    {
     "name": "stdout",
     "output_type": "stream",
     "text": [
      "                            OLS Regression Results                            \n",
      "==============================================================================\n",
      "Dep. Variable:               hit_rate   R-squared:                       0.038\n",
      "Model:                            OLS   Adj. R-squared:                  0.034\n",
      "Method:                 Least Squares   F-statistic:                     9.290\n",
      "Date:                Sat, 09 Sep 2017   Prob (F-statistic):           1.08e-08\n",
      "Time:                        13:17:47   Log-Likelihood:                -422.34\n",
      "No. Observations:                1193   AIC:                             856.7\n",
      "Df Residuals:                    1187   BIC:                             887.2\n",
      "Df Model:                           5                                         \n",
      "Covariance Type:            nonrobust                                         \n",
      "=====================================================================================\n",
      "                        coef    std err          t      P>|t|      [0.025      0.975]\n",
      "-------------------------------------------------------------------------------------\n",
      "breakfast             0.0656      0.034      1.916      0.056      -0.002       0.133\n",
      "fam_friendly         -0.0845      0.020     -4.168      0.000      -0.124      -0.045\n",
      "essentials           -0.0485      0.027     -1.806      0.071      -0.101       0.004\n",
      "workspace            -0.0498      0.021     -2.376      0.018      -0.091      -0.009\n",
      "food                 -0.0899      0.027     -3.321      0.001      -0.143      -0.037\n",
      "point_of_interest     0.3863      0.017     23.148      0.000       0.354       0.419\n",
      "establishment         0.3863      0.017     23.148      0.000       0.354       0.419\n",
      "==============================================================================\n",
      "Omnibus:                     4552.802   Durbin-Watson:                   1.874\n",
      "Prob(Omnibus):                  0.000   Jarque-Bera (JB):              117.042\n",
      "Skew:                          -0.388   Prob(JB):                     3.84e-26\n",
      "Kurtosis:                       1.676   Cond. No.                     5.04e+16\n",
      "==============================================================================\n",
      "\n",
      "Warnings:\n",
      "[1] Standard Errors assume that the covariance matrix of the errors is correctly specified.\n",
      "[2] The smallest eigenvalue is 1.82e-30. This might indicate that there are\n",
      "strong multicollinearity problems or that the design matrix is singular.\n"
     ]
    }
   ],
   "source": [
    "model = sm.OLS(Y_data_out_new['hit_rate'],sm.add_constant(X_data_out_new))\n",
    "olsres = model.fit()\n",
    "print(olsres.summary())"
   ]
  },
  {
   "cell_type": "code",
   "execution_count": null,
   "metadata": {
    "collapsed": true
   },
   "outputs": [],
   "source": []
  }
 ],
 "metadata": {
  "kernelspec": {
   "display_name": "Python 3",
   "language": "python",
   "name": "python3"
  },
  "language_info": {
   "codemirror_mode": {
    "name": "ipython",
    "version": 3
   },
   "file_extension": ".py",
   "mimetype": "text/x-python",
   "name": "python",
   "nbconvert_exporter": "python",
   "pygments_lexer": "ipython3",
   "version": "3.6.1"
  }
 },
 "nbformat": 4,
 "nbformat_minor": 2
}
