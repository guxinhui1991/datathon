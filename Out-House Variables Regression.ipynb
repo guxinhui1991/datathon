{
 "cells": [
  {
   "cell_type": "code",
   "execution_count": 1,
   "metadata": {},
   "outputs": [
    {
     "name": "stderr",
     "output_type": "stream",
     "text": [
      "/Users/Xinhui/anaconda/lib/python3.6/site-packages/statsmodels/compat/pandas.py:56: FutureWarning: The pandas.core.datetools module is deprecated and will be removed in a future version. Please use the pandas.tseries module instead.\n",
      "  from pandas.core import datetools\n"
     ]
    }
   ],
   "source": [
    "import numpy as np\n",
    "import pandas as pd\n",
    "import scipy.stats as stats\n",
    "import statsmodels.api as sm\n",
    "\n",
    "from sklearn import datasets, linear_model\n",
    "from sklearn.metrics import mean_squared_error, r2_score\n",
    "from matplotlib import pyplot as plt\n",
    "\n",
    "%matplotlib inline\n"
   ]
  },
  {
   "cell_type": "code",
   "execution_count": 2,
   "metadata": {
    "collapsed": true
   },
   "outputs": [],
   "source": [
    "## Get the out variables and read in all the relevant data"
   ]
  },
  {
   "cell_type": "code",
   "execution_count": 3,
   "metadata": {},
   "outputs": [
    {
     "name": "stderr",
     "output_type": "stream",
     "text": [
      "/Users/Xinhui/anaconda/lib/python3.6/site-packages/IPython/core/interactiveshell.py:2717: DtypeWarning: Columns (11) have mixed types. Specify dtype option on import or set low_memory=False.\n",
      "  interactivity=interactivity, compiler=compiler, result=result)\n"
     ]
    }
   ],
   "source": [
    "df = pd.read_csv('data/listing_formatted_hr_vol_fac_removed.csv', index_col=0)\n",
    "oak_data=pd.read_csv('data/out_oakland_out_facility.csv', index_col=0)\n",
    "Data_out_name = ['restaurant', 'food',\n",
    "       'point_of_interest', 'establishment', 'meal_takeaway', 'store',\n",
    "       'meal_delivery', 'cafe', 'bakery', 'bar', 'night_club',\n",
    "       'convenience_store', 'gas_station', 'finance', 'shopping_mall',\n",
    "       'clothing_store', 'grocery_or_supermarket', 'lodging', 'travel_agency',\n",
    "       'gym', 'spa', 'health', 'liquor_store', 'art_gallery', 'car_repair',\n",
    "       'home_goods_store', 'park', 'book_store', 'hair_care', 'beauty_salon',\n",
    "       'shoe_store', 'furniture_store', 'storage', 'real_estate_agency',\n",
    "       'church', 'place_of_worship', 'general_contractor', 'pharmacy',\n",
    "       'jewelry_store', 'bicycle_store', 'electronics_store', 'doctor',\n",
    "       'pet_store', 'library', 'museum', 'painter', 'hardware_store',\n",
    "       'moving_company', 'florist', 'premise', 'car_rental', 'transit_station',\n",
    "       'bus_station', 'subway_station', 'car_dealer', 'roofing_contractor', 'hit_rate','volatility']\n"
   ]
  },
  {
   "cell_type": "code",
   "execution_count": 4,
   "metadata": {
    "collapsed": true
   },
   "outputs": [],
   "source": [
    "Data_out = df[Data_out_name].dropna()\n",
    "Y_data_out = Data_out[['hit_rate', 'volatility']]\n",
    "X_data_out = Data_out[Data_out_name[:-2]]"
   ]
  },
  {
   "cell_type": "markdown",
   "metadata": {},
   "source": [
    "## Volatility Regression:"
   ]
  },
  {
   "cell_type": "code",
   "execution_count": 130,
   "metadata": {},
   "outputs": [
    {
     "name": "stdout",
     "output_type": "stream",
     "text": [
      "                            OLS Regression Results                            \n",
      "==============================================================================\n",
      "Dep. Variable:             volatility   R-squared:                       0.046\n",
      "Model:                            OLS   Adj. R-squared:                  0.002\n",
      "Method:                 Least Squares   F-statistic:                     1.045\n",
      "Date:                Sat, 09 Sep 2017   Prob (F-statistic):              0.388\n",
      "Time:                        12:48:52   Log-Likelihood:                -4553.5\n",
      "No. Observations:                1193   AIC:                             9215.\n",
      "Df Residuals:                    1139   BIC:                             9490.\n",
      "Df Model:                          53                                         \n",
      "Covariance Type:            nonrobust                                         \n",
      "==========================================================================================\n",
      "                             coef    std err          t      P>|t|      [0.025      0.975]\n",
      "------------------------------------------------------------------------------------------\n",
      "restaurant                 0.7107      1.285      0.553      0.580      -1.810       3.232\n",
      "food                      -2.7571      1.571     -1.755      0.080      -5.840       0.325\n",
      "point_of_interest          2.7818      0.934      2.977      0.003       0.948       4.615\n",
      "establishment              2.7818      0.934      2.977      0.003       0.948       4.615\n",
      "meal_takeaway              0.1232      1.141      0.108      0.914      -2.115       2.362\n",
      "store                     -0.6188      1.759     -0.352      0.725      -4.071       2.833\n",
      "meal_delivery              0.1751      1.398      0.125      0.900      -2.567       2.918\n",
      "cafe                      -0.0453      1.051     -0.043      0.966      -2.108       2.017\n",
      "bakery                     1.3162      0.927      1.420      0.156      -0.503       3.135\n",
      "bar                        0.0627      1.166      0.054      0.957      -2.224       2.349\n",
      "night_club                 1.3538      1.159      1.168      0.243      -0.921       3.628\n",
      "convenience_store          1.1888      1.066      1.115      0.265      -0.903       3.281\n",
      "gas_station               -1.9485      1.334     -1.460      0.145      -4.567       0.670\n",
      "finance                    0.4500      1.223      0.368      0.713      -1.950       2.850\n",
      "shopping_mall             -0.0714      1.194     -0.060      0.952      -2.415       2.272\n",
      "clothing_store            -0.1004      0.906     -0.111      0.912      -1.877       1.677\n",
      "grocery_or_supermarket    -0.8450      1.037     -0.815      0.415      -2.880       1.190\n",
      "lodging                    0.9782      0.896      1.092      0.275      -0.779       2.735\n",
      "travel_agency             -1.1797      0.903     -1.307      0.192      -2.951       0.592\n",
      "gym                       -0.9955      1.626     -0.612      0.541      -4.187       2.196\n",
      "spa                       -0.9717      1.216     -0.799      0.424      -3.358       1.414\n",
      "health                     0.4693      1.024      0.458      0.647      -1.541       2.479\n",
      "liquor_store               0.5446      0.919      0.593      0.554      -1.258       2.347\n",
      "art_gallery                0.2347      0.889      0.264      0.792      -1.509       1.979\n",
      "car_repair                 0.1947      0.948      0.205      0.837      -1.665       2.054\n",
      "home_goods_store           0.2264      0.969      0.233      0.815      -1.676       2.129\n",
      "park                       0.1381      0.844      0.164      0.870      -1.518       1.795\n",
      "book_store                -0.1653      1.049     -0.158      0.875      -2.223       1.893\n",
      "hair_care                  0.2802      1.560      0.180      0.857      -2.780       3.341\n",
      "beauty_salon              -0.6145      1.675     -0.367      0.714      -3.902       2.673\n",
      "shoe_store                 1.5505      1.465      1.058      0.290      -1.325       4.426\n",
      "furniture_store           -0.2266      1.103     -0.206      0.837      -2.390       1.937\n",
      "storage                    2.9277      2.426      1.207      0.228      -1.833       7.689\n",
      "real_estate_agency        -0.3981      1.867     -0.213      0.831      -4.061       3.265\n",
      "church                     8.3783      6.393      1.310      0.190      -4.166      20.922\n",
      "place_of_worship          -9.0342      6.288     -1.437      0.151     -21.372       3.304\n",
      "general_contractor        -1.4199      0.941     -1.508      0.132      -3.267       0.427\n",
      "pharmacy                  -0.7676      1.112     -0.690      0.490      -2.949       1.414\n",
      "jewelry_store             -0.5518      0.955     -0.578      0.563      -2.425       1.321\n",
      "bicycle_store             -1.0735      1.264     -0.850      0.396      -3.553       1.406\n",
      "electronics_store         -0.0556      0.909     -0.061      0.951      -1.840       1.729\n",
      "doctor                     0.7518      1.673      0.449      0.653      -2.530       4.034\n",
      "pet_store                 -0.1566      1.180     -0.133      0.894      -2.471       2.158\n",
      "library                   -1.2798      1.042     -1.229      0.219      -3.324       0.764\n",
      "museum                     1.1682      1.156      1.011      0.312      -1.099       3.435\n",
      "painter                    1.7033      1.456      1.170      0.242      -1.153       4.559\n",
      "hardware_store             0.6233      1.219      0.511      0.609      -1.768       3.014\n",
      "moving_company            -4.7240      2.651     -1.782      0.075      -9.926       0.478\n",
      "florist                    1.0121      1.014      0.999      0.318      -0.977       3.001\n",
      "premise                   -0.8945      1.008     -0.888      0.375      -2.871       1.083\n",
      "car_rental                 0.2972      1.352      0.220      0.826      -2.355       2.950\n",
      "transit_station            0.6091      0.750      0.812      0.417      -0.863       2.081\n",
      "bus_station                0.6091      0.750      0.812      0.417      -0.863       2.081\n",
      "subway_station            -1.9582      1.707     -1.147      0.252      -5.308       1.392\n",
      "car_dealer                -0.3609      1.129     -0.320      0.749      -2.577       1.855\n",
      "roofing_contractor         3.8659      1.572      2.459      0.014       0.781       6.950\n",
      "==============================================================================\n",
      "Omnibus:                     1345.691   Durbin-Watson:                   1.904\n",
      "Prob(Omnibus):                  0.000   Jarque-Bera (JB):           107776.042\n",
      "Skew:                           5.625   Prob(JB):                         0.00\n",
      "Kurtosis:                      48.184   Cond. No.                     1.11e+16\n",
      "==============================================================================\n",
      "\n",
      "Warnings:\n",
      "[1] Standard Errors assume that the covariance matrix of the errors is correctly specified.\n",
      "[2] The smallest eigenvalue is 1.24e-28. This might indicate that there are\n",
      "strong multicollinearity problems or that the design matrix is singular.\n"
     ]
    }
   ],
   "source": [
    "model = sm.OLS(Y_data_out['volatility'],sm.add_constant(X_data_out))\n",
    "olsres = model.fit()\n",
    "print(olsres.summary())"
   ]
  },
  {
   "cell_type": "markdown",
   "metadata": {},
   "source": [
    "## Remove the insignificant variables"
   ]
  },
  {
   "cell_type": "code",
   "execution_count": 134,
   "metadata": {
    "collapsed": true
   },
   "outputs": [],
   "source": [
    "Data_out_name_new = ['food','point_of_interest', 'establishment', 'moving_company', 'roofing_contractor', 'hit_rate','volatility']\n",
    "Data_out_cleaned = df[Data_out_name].dropna()\n",
    "Y_data_out = Data_out_cleaned[['hit_rate', 'volatility']]\n",
    "X_data_out = Data_out_cleaned[Data_out_name_new[:-2]]"
   ]
  },
  {
   "cell_type": "code",
   "execution_count": 135,
   "metadata": {},
   "outputs": [
    {
     "name": "stdout",
     "output_type": "stream",
     "text": [
      "                            OLS Regression Results                            \n",
      "==============================================================================\n",
      "Dep. Variable:             volatility   R-squared:                       0.017\n",
      "Model:                            OLS   Adj. R-squared:                  0.014\n",
      "Method:                 Least Squares   F-statistic:                     6.798\n",
      "Date:                Sat, 09 Sep 2017   Prob (F-statistic):           0.000152\n",
      "Time:                        12:55:10   Log-Likelihood:                -4571.7\n",
      "No. Observations:                1193   AIC:                             9151.\n",
      "Df Residuals:                    1189   BIC:                             9172.\n",
      "Df Model:                           3                                         \n",
      "Covariance Type:            nonrobust                                         \n",
      "======================================================================================\n",
      "                         coef    std err          t      P>|t|      [0.025      0.975]\n",
      "--------------------------------------------------------------------------------------\n",
      "food                  -1.9341      0.882     -2.194      0.028      -3.664      -0.204\n",
      "point_of_interest      2.9776      0.400      7.439      0.000       2.192       3.763\n",
      "establishment          2.9776      0.400      7.439      0.000       2.192       3.763\n",
      "moving_company        -1.2299      1.042     -1.180      0.238      -3.275       0.815\n",
      "roofing_contractor     4.9062      1.246      3.939      0.000       2.462       7.350\n",
      "==============================================================================\n",
      "Omnibus:                     1374.373   Durbin-Watson:                   1.865\n",
      "Prob(Omnibus):                  0.000   Jarque-Bera (JB):           116750.342\n",
      "Skew:                           5.818   Prob(JB):                         0.00\n",
      "Kurtosis:                      50.046   Cond. No.                     8.67e+16\n",
      "==============================================================================\n",
      "\n",
      "Warnings:\n",
      "[1] Standard Errors assume that the covariance matrix of the errors is correctly specified.\n",
      "[2] The smallest eigenvalue is 4.37e-31. This might indicate that there are\n",
      "strong multicollinearity problems or that the design matrix is singular.\n"
     ]
    }
   ],
   "source": [
    "model = sm.OLS(Y_data_out['volatility'],sm.add_constant(X_data_out))\n",
    "olsres = model.fit()\n",
    "print(olsres.summary())"
   ]
  },
  {
   "cell_type": "code",
   "execution_count": 138,
   "metadata": {},
   "outputs": [
    {
     "name": "stdout",
     "output_type": "stream",
     "text": [
      "                            OLS Regression Results                            \n",
      "==============================================================================\n",
      "Dep. Variable:             volatility   R-squared:                       0.016\n",
      "Model:                            OLS   Adj. R-squared:                  0.014\n",
      "Method:                 Least Squares   F-statistic:                     9.497\n",
      "Date:                Sat, 09 Sep 2017   Prob (F-statistic):           8.09e-05\n",
      "Time:                        12:58:53   Log-Likelihood:                -4572.4\n",
      "No. Observations:                1193   AIC:                             9151.\n",
      "Df Residuals:                    1190   BIC:                             9166.\n",
      "Df Model:                           2                                         \n",
      "Covariance Type:            nonrobust                                         \n",
      "======================================================================================\n",
      "                         coef    std err          t      P>|t|      [0.025      0.975]\n",
      "--------------------------------------------------------------------------------------\n",
      "food                  -2.0313      0.878     -2.314      0.021      -3.754      -0.309\n",
      "point_of_interest      2.9532      0.400      7.386      0.000       2.169       3.738\n",
      "establishment          2.9532      0.400      7.386      0.000       2.169       3.738\n",
      "roofing_contractor     4.8381      1.245      3.888      0.000       2.396       7.280\n",
      "==============================================================================\n",
      "Omnibus:                     1376.148   Durbin-Watson:                   1.870\n",
      "Prob(Omnibus):                  0.000   Jarque-Bera (JB):           117294.132\n",
      "Skew:                           5.830   Prob(JB):                         0.00\n",
      "Kurtosis:                      50.156   Cond. No.                     1.05e+17\n",
      "==============================================================================\n",
      "\n",
      "Warnings:\n",
      "[1] Standard Errors assume that the covariance matrix of the errors is correctly specified.\n",
      "[2] The smallest eigenvalue is 2.99e-31. This might indicate that there are\n",
      "strong multicollinearity problems or that the design matrix is singular.\n"
     ]
    }
   ],
   "source": [
    "Data_out_name_new = ['food','point_of_interest', 'establishment','roofing_contractor', 'hit_rate','volatility']\n",
    "Data_out_cleaned = df[Data_out_name].dropna()\n",
    "Y_data_out = Data_out_cleaned[['hit_rate', 'volatility']]\n",
    "\n",
    "X_data_out = Data_out_cleaned[Data_out_name_new[:-2]]\n",
    "model = sm.OLS(Y_data_out['volatility'],sm.add_constant(X_data_out))\n",
    "olsres = model.fit()\n",
    "print(olsres.summary())"
   ]
  },
  {
   "cell_type": "code",
   "execution_count": null,
   "metadata": {
    "collapsed": true
   },
   "outputs": [],
   "source": []
  },
  {
   "cell_type": "markdown",
   "metadata": {},
   "source": [
    "## Hit Ratio Regression:\n"
   ]
  },
  {
   "cell_type": "code",
   "execution_count": 5,
   "metadata": {},
   "outputs": [
    {
     "name": "stdout",
     "output_type": "stream",
     "text": [
      "                            OLS Regression Results                            \n",
      "==============================================================================\n",
      "Dep. Variable:               hit_rate   R-squared:                       0.026\n",
      "Model:                            OLS   Adj. R-squared:                  0.023\n",
      "Method:                 Least Squares   F-statistic:                     8.975\n",
      "Date:                Sat, 09 Sep 2017   Prob (F-statistic):           1.93e-69\n",
      "Time:                        13:55:49   Log-Likelihood:                -6702.9\n",
      "No. Observations:               18439   AIC:                         1.352e+04\n",
      "Df Residuals:                   18384   BIC:                         1.395e+04\n",
      "Df Model:                          54                                         \n",
      "Covariance Type:            nonrobust                                         \n",
      "==========================================================================================\n",
      "                             coef    std err          t      P>|t|      [0.025      0.975]\n",
      "------------------------------------------------------------------------------------------\n",
      "restaurant                 0.0164      0.012      1.379      0.168      -0.007       0.040\n",
      "food                      -0.0270      0.014     -1.996      0.046      -0.054      -0.000\n",
      "point_of_interest          0.3189      0.008     42.278      0.000       0.304       0.334\n",
      "establishment              0.3189      0.008     42.278      0.000       0.304       0.334\n",
      "meal_takeaway             -0.0147      0.008     -1.954      0.051      -0.029     4.2e-05\n",
      "store                      0.0316      0.015      2.074      0.038       0.002       0.062\n",
      "meal_delivery              0.0048      0.008      0.624      0.532      -0.010       0.020\n",
      "cafe                       0.0074      0.009      0.844      0.399      -0.010       0.025\n",
      "bakery                     0.0038      0.007      0.535      0.593      -0.010       0.018\n",
      "bar                       -0.0035      0.009     -0.409      0.682      -0.020       0.013\n",
      "night_club                -0.0083      0.007     -1.150      0.250      -0.022       0.006\n",
      "convenience_store         -0.0136      0.007     -1.935      0.053      -0.027       0.000\n",
      "gas_station                0.0191      0.009      2.016      0.044       0.001       0.038\n",
      "finance                    0.0156      0.007      2.156      0.031       0.001       0.030\n",
      "shopping_mall              0.0082      0.008      1.093      0.274      -0.007       0.023\n",
      "clothing_store            -0.0099      0.007     -1.344      0.179      -0.024       0.005\n",
      "grocery_or_supermarket    -0.0321      0.007     -4.303      0.000      -0.047      -0.017\n",
      "lodging                    0.0155      0.007      2.272      0.023       0.002       0.029\n",
      "travel_agency             -0.0218      0.007     -3.183      0.001      -0.035      -0.008\n",
      "gym                       -0.0191      0.009     -2.033      0.042      -0.037      -0.001\n",
      "spa                        0.0229      0.009      2.437      0.015       0.004       0.041\n",
      "health                    -0.0004      0.008     -0.056      0.955      -0.016       0.015\n",
      "liquor_store              -0.0180      0.007     -2.540      0.011      -0.032      -0.004\n",
      "art_gallery               -0.0034      0.007     -0.510      0.610      -0.017       0.010\n",
      "car_repair                -0.0002      0.007     -0.029      0.977      -0.013       0.013\n",
      "home_goods_store          -0.0292      0.008     -3.436      0.001      -0.046      -0.013\n",
      "park                       0.0174      0.006      2.791      0.005       0.005       0.030\n",
      "book_store                 0.0037      0.007      0.520      0.603      -0.010       0.018\n",
      "hair_care                 -0.0286      0.010     -2.895      0.004      -0.048      -0.009\n",
      "beauty_salon               0.0155      0.011      1.379      0.168      -0.007       0.038\n",
      "shoe_store                 0.0018      0.008      0.238      0.812      -0.013       0.017\n",
      "furniture_store            0.0166      0.007      2.354      0.019       0.003       0.030\n",
      "storage                    0.0097      0.012      0.826      0.409      -0.013       0.033\n",
      "real_estate_agency         0.0264      0.007      3.757      0.000       0.013       0.040\n",
      "church                     0.0038      0.026      0.145      0.885      -0.047       0.055\n",
      "place_of_worship           0.0171      0.022      0.780      0.436      -0.026       0.060\n",
      "general_contractor        -0.0046      0.006     -0.759      0.448      -0.016       0.007\n",
      "pharmacy                  -0.0073      0.007     -1.017      0.309      -0.021       0.007\n",
      "jewelry_store             -0.0042      0.007     -0.602      0.547      -0.018       0.010\n",
      "bicycle_store             -0.0101      0.007     -1.430      0.153      -0.024       0.004\n",
      "electronics_store         -0.0094      0.007     -1.384      0.166      -0.023       0.004\n",
      "doctor                    -0.0184      0.009     -2.167      0.030      -0.035      -0.002\n",
      "pet_store                 -0.0343      0.008     -4.558      0.000      -0.049      -0.020\n",
      "library                    0.0325      0.007      4.795      0.000       0.019       0.046\n",
      "museum                    -0.0190      0.007     -2.634      0.008      -0.033      -0.005\n",
      "painter                   -0.0100      0.010     -1.021      0.307      -0.029       0.009\n",
      "hardware_store             0.0140      0.007      1.911      0.056      -0.000       0.028\n",
      "moving_company             0.0238      0.014      1.751      0.080      -0.003       0.051\n",
      "florist                   -0.0098      0.007     -1.461      0.144      -0.023       0.003\n",
      "premise                   -0.0229      0.008     -3.043      0.002      -0.038      -0.008\n",
      "car_rental                 0.0030      0.008      0.366      0.714      -0.013       0.019\n",
      "transit_station           -0.0727      0.038     -1.911      0.056      -0.147       0.002\n",
      "bus_station                0.0450      0.037      1.223      0.221      -0.027       0.117\n",
      "subway_station            -0.1091      0.018     -6.122      0.000      -0.144      -0.074\n",
      "car_dealer                 0.0149      0.007      2.150      0.032       0.001       0.028\n",
      "roofing_contractor        -0.0438      0.016     -2.819      0.005      -0.074      -0.013\n",
      "==============================================================================\n",
      "Omnibus:                      133.867   Durbin-Watson:                   1.794\n",
      "Prob(Omnibus):                  0.000   Jarque-Bera (JB):             1769.269\n",
      "Skew:                          -0.211   Prob(JB):                         0.00\n",
      "Kurtosis:                       1.542   Cond. No.                     2.25e+15\n",
      "==============================================================================\n",
      "\n",
      "Warnings:\n",
      "[1] Standard Errors assume that the covariance matrix of the errors is correctly specified.\n",
      "[2] The smallest eigenvalue is 5.89e-26. This might indicate that there are\n",
      "strong multicollinearity problems or that the design matrix is singular.\n"
     ]
    }
   ],
   "source": [
    "model = sm.OLS(Y_data_out['hit_rate'],sm.add_constant(X_data_out))\n",
    "olsres = model.fit()\n",
    "print(olsres.summary())"
   ]
  },
  {
   "cell_type": "markdown",
   "metadata": {},
   "source": [
    "## Removing the insignificant variables"
   ]
  },
  {
   "cell_type": "code",
   "execution_count": 12,
   "metadata": {},
   "outputs": [
    {
     "name": "stdout",
     "output_type": "stream",
     "text": [
      "                            OLS Regression Results                            \n",
      "==============================================================================\n",
      "Dep. Variable:             volatility   R-squared:                       0.020\n",
      "Model:                            OLS   Adj. R-squared:                  0.020\n",
      "Method:                 Least Squares   F-statistic:                     22.60\n",
      "Date:                Sat, 09 Sep 2017   Prob (F-statistic):           2.32e-70\n",
      "Time:                        14:01:44   Log-Likelihood:                -97859.\n",
      "No. Observations:               18439   AIC:                         1.958e+05\n",
      "Df Residuals:                   18421   BIC:                         1.959e+05\n",
      "Df Model:                          17                                         \n",
      "Covariance Type:            nonrobust                                         \n",
      "==========================================================================================\n",
      "                             coef    std err          t      P>|t|      [0.025      0.975]\n",
      "------------------------------------------------------------------------------------------\n",
      "food                       4.1071      1.349      3.044      0.002       1.463       6.751\n",
      "point_of_interest          6.7836      0.735      9.228      0.000       5.343       8.224\n",
      "establishment              6.7836      0.735      9.228      0.000       5.343       8.224\n",
      "gas_station               -3.4529      1.209     -2.856      0.004      -5.823      -1.083\n",
      "grocery_or_supermarket    -3.0240      0.954     -3.169      0.002      -4.895      -1.153\n",
      "lodging                    4.8707      0.903      5.392      0.000       3.100       6.641\n",
      "gym                        1.9634      1.229      1.598      0.110      -0.445       4.372\n",
      "spa                        1.9928      0.913      2.183      0.029       0.203       3.782\n",
      "home_goods_store          -3.2663      0.999     -3.270      0.001      -5.224      -1.308\n",
      "park                      -1.1504      0.856     -1.344      0.179      -2.828       0.527\n",
      "real_estate_agency         9.3590      0.906     10.333      0.000       7.584      11.134\n",
      "museum                     2.0615      0.955      2.158      0.031       0.189       3.934\n",
      "hardware_store            -1.3666      0.971     -1.408      0.159      -3.269       0.536\n",
      "moving_company            -4.5967      1.519     -3.025      0.002      -7.575      -1.618\n",
      "premise                   -1.5486      1.032     -1.501      0.133      -3.571       0.474\n",
      "transit_station           -2.6822      1.420     -1.889      0.059      -5.465       0.101\n",
      "subway_station            -5.1767      2.420     -2.139      0.032      -9.921      -0.433\n",
      "car_dealer                 2.3141      0.904      2.559      0.010       0.542       4.086\n",
      "roofing_contractor         8.0158      2.081      3.852      0.000       3.937      12.095\n",
      "==============================================================================\n",
      "Omnibus:                    52440.838   Durbin-Watson:                   1.928\n",
      "Prob(Omnibus):                  0.000   Jarque-Bera (JB):       5675067594.511\n",
      "Skew:                          37.557   Prob(JB):                         0.00\n",
      "Kurtosis:                    2719.793   Cond. No.                     3.26e+16\n",
      "==============================================================================\n",
      "\n",
      "Warnings:\n",
      "[1] Standard Errors assume that the covariance matrix of the errors is correctly specified.\n",
      "[2] The smallest eigenvalue is 1.07e-28. This might indicate that there are\n",
      "strong multicollinearity problems or that the design matrix is singular.\n"
     ]
    }
   ],
   "source": [
    "Data_out_name_new =['food','point_of_interest', 'establishment', 'gas_station','grocery_or_supermarket', 'lodging',\n",
    "       'gym', 'spa', 'home_goods_store', 'park', 'real_estate_agency',\n",
    "        'museum', 'hardware_store',\n",
    "       'moving_company',  'premise',  'transit_station', 'subway_station', 'car_dealer', 'roofing_contractor','hit_rate','volatility']\n",
    "\n",
    "Data_out_cleaned = df[Data_out_name].dropna()\n",
    "Y_data_out = Data_out_cleaned[['hit_rate', 'volatility']]\n",
    "\n",
    "X_data_out = Data_out_cleaned[Data_out_name_new[:-2]]\n",
    "model = sm.OLS(Y_data_out['volatility'],sm.add_constant(X_data_out))\n",
    "olsres = model.fit()\n",
    "print(olsres.summary())"
   ]
  },
  {
   "cell_type": "markdown",
   "metadata": {},
   "source": [
    "## Removing further the insignificant variables"
   ]
  },
  {
   "cell_type": "code",
   "execution_count": 16,
   "metadata": {},
   "outputs": [
    {
     "name": "stdout",
     "output_type": "stream",
     "text": [
      "                            OLS Regression Results                            \n",
      "==============================================================================\n",
      "Dep. Variable:             volatility   R-squared:                       0.020\n",
      "Model:                            OLS   Adj. R-squared:                  0.019\n",
      "Method:                 Least Squares   F-statistic:                     28.77\n",
      "Date:                Sat, 09 Sep 2017   Prob (F-statistic):           3.98e-71\n",
      "Time:                        14:17:29   Log-Likelihood:                -97864.\n",
      "No. Observations:               18439   AIC:                         1.958e+05\n",
      "Df Residuals:                   18425   BIC:                         1.959e+05\n",
      "Df Model:                          13                                         \n",
      "Covariance Type:            nonrobust                                         \n",
      "==========================================================================================\n",
      "                             coef    std err          t      P>|t|      [0.025      0.975]\n",
      "------------------------------------------------------------------------------------------\n",
      "food                       4.1939      1.348      3.112      0.002       1.553       6.835\n",
      "point_of_interest          6.6136      0.725      9.124      0.000       5.193       8.034\n",
      "establishment              6.6136      0.725      9.124      0.000       5.193       8.034\n",
      "gas_station               -3.4294      1.203     -2.850      0.004      -5.788      -1.070\n",
      "grocery_or_supermarket    -3.2839      0.944     -3.479      0.001      -5.134      -1.434\n",
      "lodging                    4.5944      0.885      5.194      0.000       2.861       6.328\n",
      "spa                        1.9505      0.894      2.181      0.029       0.197       3.704\n",
      "home_goods_store          -3.4311      0.991     -3.461      0.001      -5.374      -1.488\n",
      "real_estate_agency         9.2754      0.903     10.271      0.000       7.505      11.045\n",
      "museum                     1.9307      0.944      2.046      0.041       0.081       3.781\n",
      "moving_company            -4.6844      1.512     -3.098      0.002      -7.648      -1.721\n",
      "transit_station           -2.9014      1.414     -2.051      0.040      -5.674      -0.129\n",
      "subway_station            -5.1570      2.412     -2.138      0.033      -9.885      -0.429\n",
      "car_dealer                 2.2663      0.897      2.528      0.011       0.509       4.024\n",
      "roofing_contractor         7.8134      2.076      3.763      0.000       3.744      11.883\n",
      "==============================================================================\n",
      "Omnibus:                    52436.932   Durbin-Watson:                   1.929\n",
      "Prob(Omnibus):                  0.000   Jarque-Bera (JB):       5669818334.133\n",
      "Skew:                          37.550   Prob(JB):                         0.00\n",
      "Kurtosis:                    2718.536   Cond. No.                     1.09e+17\n",
      "==============================================================================\n",
      "\n",
      "Warnings:\n",
      "[1] Standard Errors assume that the covariance matrix of the errors is correctly specified.\n",
      "[2] The smallest eigenvalue is 8.82e-30. This might indicate that there are\n",
      "strong multicollinearity problems or that the design matrix is singular.\n"
     ]
    }
   ],
   "source": [
    "Data_out_name_new =['food','point_of_interest', 'establishment', 'gas_station','grocery_or_supermarket', 'lodging',\n",
    "        'spa', 'home_goods_store', 'real_estate_agency',\n",
    "        'museum', 'moving_company',  'transit_station', 'subway_station', 'car_dealer', 'roofing_contractor','hit_rate','volatility']\n",
    "\n",
    "Data_out_cleaned = df[Data_out_name].dropna()\n",
    "Y_data_out = Data_out_cleaned[['hit_rate', 'volatility']]\n",
    "\n",
    "X_data_out = Data_out_cleaned[Data_out_name_new[:-2]]\n",
    "model = sm.OLS(Y_data_out['volatility'],sm.add_constant(X_data_out))\n",
    "olsres = model.fit()\n",
    "print(olsres.summary())"
   ]
  },
  {
   "cell_type": "code",
   "execution_count": null,
   "metadata": {
    "collapsed": true
   },
   "outputs": [],
   "source": []
  }
 ],
 "metadata": {
  "kernelspec": {
   "display_name": "Python 3",
   "language": "python",
   "name": "python3"
  },
  "language_info": {
   "codemirror_mode": {
    "name": "ipython",
    "version": 3
   },
   "file_extension": ".py",
   "mimetype": "text/x-python",
   "name": "python",
   "nbconvert_exporter": "python",
   "pygments_lexer": "ipython3",
   "version": "3.6.1"
  }
 },
 "nbformat": 4,
 "nbformat_minor": 2
}
